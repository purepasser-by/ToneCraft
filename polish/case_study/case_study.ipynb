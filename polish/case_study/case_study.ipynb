{
 "cells": [
  {
   "cell_type": "markdown",
   "metadata": {},
   "source": [
    "### 测试case"
   ]
  },
  {
   "cell_type": "markdown",
   "metadata": {},
   "source": [
    "#### 加载模型"
   ]
  },
  {
   "cell_type": "code",
   "execution_count": 1,
   "metadata": {},
   "outputs": [
    {
     "data": {
      "application/vnd.jupyter.widget-view+json": {
       "model_id": "0da96e8524b247dca6b0037c25d3d81e",
       "version_major": 2,
       "version_minor": 0
      },
      "text/plain": [
       "Loading checkpoint shards:   0%|          | 0/9 [00:00<?, ?it/s]"
      ]
     },
     "metadata": {},
     "output_type": "display_data"
    }
   ],
   "source": [
    "import torch \n",
    "from modelscope import AutoModelForCausalLM,AutoTokenizer \n",
    "import os\n",
    "\n",
    "model_path = '/root/autodl-tmp/LLaMA-Factory-main/models/llama3_lora_mask'\n",
    "model = AutoModelForCausalLM.from_pretrained(model_path,torch_dtype=torch.float16,device_map =\"cuda\")\n",
    "tokenizer = AutoTokenizer.from_pretrained(model_path,torch_dtype=torch.float16,device_map =\"cuda\") "
   ]
  },
  {
   "cell_type": "code",
   "execution_count": 2,
   "metadata": {},
   "outputs": [],
   "source": [
    "from data_utils import convert_pitches_to_numbers,div_zone,pitch2zone,cal_zone_range\n",
    "from metrics import cal_md"
   ]
  },
  {
   "cell_type": "markdown",
   "metadata": {},
   "source": [
    "#### 自定义采样策略"
   ]
  },
  {
   "cell_type": "code",
   "execution_count": 3,
   "metadata": {},
   "outputs": [],
   "source": [
    "# 自定义采样策略，采样三个候选项并记录每步的概率和累积概率\n",
    "def custom_sampling(logits, num_samples=3, temperature=0.8, top_p=0.9):\n",
    "    # 应用 temperature 和 top-p 策略\n",
    "    logits = logits / temperature\n",
    "    sorted_logits, sorted_indices = torch.sort(logits, descending=True)\n",
    "    cumulative_probs = torch.cumsum(torch.softmax(sorted_logits, dim=-1), dim=-1)\n",
    "    sorted_indices_to_remove = cumulative_probs > top_p\n",
    "    sorted_indices_to_remove[:, 1:] = sorted_indices_to_remove[:, :-1].clone()\n",
    "    sorted_indices_to_remove[:, 0] = 0  # 保留至少一个 token\n",
    "\n",
    "    # 抑制被过滤的 token\n",
    "    filtered_logits = logits.clone()\n",
    "    filtered_logits[:,sorted_indices[sorted_indices_to_remove]] = -torch.inf\n",
    "\n",
    "    # 在过滤后的分布上采样三个 token\n",
    "    probabilities = torch.softmax(filtered_logits, dim=-1)\n",
    "    sampled_tokens = torch.multinomial(probabilities, num_samples=num_samples, replacement=False)\n",
    "    \n",
    "    # 获取对应 token 的概率\n",
    "    sampled_probs = probabilities.gather(1, sampled_tokens)\n",
    "    \n",
    "    return sampled_tokens, sampled_probs\n"
   ]
  },
  {
   "cell_type": "code",
   "execution_count": 4,
   "metadata": {},
   "outputs": [],
   "source": [
    "\n",
    "# 自定义生成函数\n",
    "def custom_generate(input_ids,true_zones,zone_bound,lmt, max_new_tokens=256, eos_token_id=None):\n",
    "    generated_ids = input_ids\n",
    "    total_probabilities = []  # 记录每步的候选项及其概率信息\n",
    "\n",
    "    cnt_yinfu=0\n",
    "    for step in range(max_new_tokens):\n",
    "        # 获取当前步的 logits\n",
    "        outputs = model(generated_ids)\n",
    "        logits = outputs.logits[:, -1, :]\n",
    "\n",
    "        # 使用自定义采样策略获取3个候选项及其概率\n",
    "        next_tokens, token_probs = custom_sampling(logits, num_samples=3)\n",
    "        \n",
    "        # 记录当前步候选项及其概率\n",
    "        step_probabilities = []\n",
    "        for i in range(3):\n",
    "            token_id = next_tokens[0, i].item()\n",
    "            prob = token_probs[0, i].item()\n",
    "            step_probabilities.append((token_id, prob))\n",
    "        \n",
    "        total_probabilities.append(step_probabilities)\n",
    "\n",
    "        # 在这里加一下限制，选择一个符合或者比较符合音区的，继续生成序列\n",
    "        has_yinfu=0\n",
    "        for i in range(3):\n",
    "            temp_chosen = next_tokens[0, i].unsqueeze(0) #确保能选到是音符\n",
    "            if eos_token_id is not None and temp_chosen == eos_token_id: #终止符号优先级最高  第一个字符都是空格\n",
    "                chosen_token = temp_chosen\n",
    "                break\n",
    "            '''\n",
    "            if step==0:\n",
    "                chosen_token=torch.tensor([220]).cuda()#空格\n",
    "                break\n",
    "            '''\n",
    "            ls=convert_pitches_to_numbers(tokenizer.decode(temp_chosen))\n",
    "            if(len(ls)==0):#不是音符\n",
    "                if i==2 and has_yinfu==0:# \n",
    "                    chosen_token=torch.tensor([220]).cuda()#空格\n",
    "                    break\n",
    "                continue #直接跳过  3个可选，后面肯定会遇到有音符的\n",
    "            has_yinfu=1\n",
    "            chosen_token=temp_chosen\n",
    "            chosen_pitch=ls[0] #选择的音高\n",
    "            zone_id=true_zones[cnt_yinfu]#应该填这个音区\n",
    "            pitch_range=cal_zone_range(zone_bound,zone_id)\n",
    "            if(pitch_range[0]-lmt<= chosen_pitch <=pitch_range[1]+lmt):\n",
    "                #print(\"第{}次接受\".format(i))\n",
    "                cnt_yinfu+=1\n",
    "                break #选到了，可以提前结束\n",
    "            \n",
    "\n",
    "        generated_ids = torch.cat([generated_ids, chosen_token.unsqueeze(0)], dim=1)\n",
    "\n",
    "        # 如果生成了 eos_token 则终止\n",
    "        if eos_token_id is not None and chosen_token == eos_token_id:\n",
    "            break\n",
    "\n",
    "    '''\n",
    "    # 输出每步的候选项及其概率\n",
    "    for step, candidates in enumerate(total_probabilities):\n",
    "        print(f\"Step {step + 1}:\")\n",
    "        for token_id, prob in candidates:\n",
    "            token_str = tokenizer.decode([token_id])\n",
    "            print(f\"  Token: {token_str}, Probability: {prob:.4f}\")\n",
    "        \n",
    "        # 计算并输出总的累积概率（仅选择第一个候选项的路径）\n",
    "        if step == 0:\n",
    "            cumulative_prob = total_probabilities[0][0][1]\n",
    "        else:\n",
    "            cumulative_prob *= total_probabilities[step][0][1]\n",
    "        print(f\"  Cumulative Probability up to this step: {cumulative_prob:.4f}\\n\")\n",
    "    '''\n",
    "\n",
    "    return generated_ids"
   ]
  },
  {
   "cell_type": "code",
   "execution_count": 5,
   "metadata": {},
   "outputs": [],
   "source": [
    "def inference(msg,true_zones,zone_bound,lmt):\n",
    "    # 将消息模板转换为模型输入格式\n",
    "    prompt = tokenizer.apply_chat_template(msg, tokenize=False, add_generation_prompt=True)\n",
    "    # 定义终止条件\n",
    "    terminators = [\n",
    "        tokenizer.eos_token_id,\n",
    "        tokenizer.convert_tokens_to_ids(\"<|eot_id|>\")\n",
    "    ]\n",
    "\n",
    "    # 对 prompt 进行编码\n",
    "    input_ids = tokenizer(prompt, return_tensors=\"pt\").input_ids.to(\"cuda\")\n",
    "\n",
    "\n",
    "    # 使用自定义生成函数\n",
    "    outputs = custom_generate(\n",
    "        input_ids=input_ids,\n",
    "        true_zones=true_zones,\n",
    "        zone_bound=zone_bound,\n",
    "        lmt=lmt,\n",
    "        max_new_tokens=256,\n",
    "        eos_token_id=tokenizer.eos_token_id,\n",
    "    )\n",
    "\n",
    "    # 解码并打印生成的文本\n",
    "    generated_text = tokenizer.decode(outputs[0], skip_special_tokens=True)\n",
    "    #print(\"\\nGenerated Text:\\n\", generated_text)\n",
    "\n",
    "    return generated_text"
   ]
  },
  {
   "cell_type": "markdown",
   "metadata": {},
   "source": [
    "#### 读取case数据 测试"
   ]
  },
  {
   "cell_type": "code",
   "execution_count": 98,
   "metadata": {},
   "outputs": [],
   "source": [
    "import json\n",
    "with open(\"case4_italy.json\", 'r') as infile:\n",
    "    song_pitch_list = json.load(infile)\n"
   ]
  },
  {
   "cell_type": "code",
   "execution_count": 99,
   "metadata": {},
   "outputs": [
    {
     "data": {
      "text/plain": [
       "[{'pitch': [62, 62, 66, 69, 74, 77, 74, 69]},\n",
       " {'pitch': [67, 71, 66, 69, 64, 66, 67, 65]},\n",
       " {'pitch': [62, 62, 66, 69, 74, 77, 74, 69]},\n",
       " {'pitch': [71, 74, 69, 62, 74, 74, 69, 69]},\n",
       " {'pitch': [69, 66, 62, 64, 66, 67, 69, 66]},\n",
       " {'pitch': [67, 64, 60, 62, 64, 66, 67, 65]},\n",
       " {'pitch': [65, 67, 65, 69, 66, 69]},\n",
       " {'pitch': [65, 64, 60, 74, 74, 69]},\n",
       " {'pitch': [69, 66, 69, 69, 66, 69]},\n",
       " {'pitch': [65, 64, 60, 69, 65, 67]},\n",
       " {'pitch': [65, 67, 65, 69, 66, 69]},\n",
       " {'pitch': [65, 64, 60, 74, 74, 69]}]"
      ]
     },
     "execution_count": 99,
     "metadata": {},
     "output_type": "execute_result"
    }
   ],
   "source": [
    "song_pitch_list"
   ]
  },
  {
   "cell_type": "code",
   "execution_count": 100,
   "metadata": {},
   "outputs": [],
   "source": [
    "lyrics=[\n",
    "    \"随时有大事件发生\",\n",
    "    \"活像是我们的护荫\",\n",
    "    \"无比韵律清新口吻\",\n",
    "    \"不必记愁归家最好\",\n",
    "    \"即使离别也觉清楚\",\n",
    "    \"今晚能聚众一起好\",\n",
    "    \"如我还可用心\",\n",
    "    \"独有愉快音讯\",\n",
    "    \"跟随风吹笛声\",\n",
    "    \"放下烦恼畅泳\",\n",
    "    \"无数人得到奖\",\n",
    "    \"沿着愉快轨进\"\n",
    "]"
   ]
  },
  {
   "cell_type": "code",
   "execution_count": null,
   "metadata": {},
   "outputs": [],
   "source": []
  },
  {
   "cell_type": "code",
   "execution_count": null,
   "metadata": {},
   "outputs": [],
   "source": []
  },
  {
   "cell_type": "markdown",
   "metadata": {},
   "source": [
    "### 歌词转化为音区序列"
   ]
  },
  {
   "cell_type": "code",
   "execution_count": 91,
   "metadata": {},
   "outputs": [],
   "source": [
    "import os\n",
    "import json\n",
    "import zhconv\n",
    "# 返回某个字对应的声调\n",
    "def tone(x : str) -> int:\n",
    "    #utils_dir = os.path.dirname(os.path.abspath(__file__))\n",
    "    #fp = utils_dir + \"/tone.json\"\n",
    "    fp=\"tone.json\"\n",
    "    with open(fp,'r',encoding='utf-8') as jf:\n",
    "        tone_js = json.load(jf)\n",
    "    # 词典中有些字只有繁体字没有简体 以防万一先转化\n",
    "    if x == '.' or x == ',' or x == '。' or x == '，': \n",
    "        return 0\n",
    "    value = tone_js.get(x)\n",
    "    if value :\n",
    "        return int(value)\n",
    "    else:\n",
    "        x = zhconv.convert(x,\"zh-hant\")\n",
    "        value = tone_js.get(x)\n",
    "        if value :\n",
    "            return int(value)\n",
    "        else:\n",
    "            return 0\n",
    "        \n",
    "\n",
    "# 返回某个声调对应的音高\n",
    "def tone2zone(x : int) -> int:\n",
    "    tone_md = {0: 0, 1: 4, 2:4, 3: 3, 4: 1, 5: 3, 6: 2,-1: 0}\n",
    "    return tone_md[x]"
   ]
  },
  {
   "cell_type": "code",
   "execution_count": 101,
   "metadata": {},
   "outputs": [
    {
     "data": {
      "text/plain": [
       "[[1, 1, 2, 2, 2, 2, 3, 4],\n",
       " [2, 2, 2, 3, 1, 2, 2, 3],\n",
       " [1, 1, 2, 2, 4, 4, 4, 3],\n",
       " [4, 4, 3, 1, 4, 4, 3, 3],\n",
       " [4, 3, 1, 2, 3, 3, 4, 4],\n",
       " [4, 3, 1, 2, 3, 4, 4, 3],\n",
       " [1, 3, 1, 4, 2, 4],\n",
       " [2, 2, 1, 3, 4, 3],\n",
       " [4, 1, 4, 4, 2, 4],\n",
       " [3, 2, 1, 3, 3, 2],\n",
       " [1, 3, 1, 4, 3, 4],\n",
       " [2, 2, 1, 3, 4, 3]]"
      ]
     },
     "execution_count": 101,
     "metadata": {},
     "output_type": "execute_result"
    }
   ],
   "source": [
    "lyrics_zone_list = [[tone2zone(tone(char)) for char in line] for line in lyrics]\n",
    "lyrics_zone_list"
   ]
  },
  {
   "cell_type": "code",
   "execution_count": 102,
   "metadata": {},
   "outputs": [
    {
     "data": {
      "text/plain": [
       "[[0, 0, 2, 2, 2, 2, 4, 3],\n",
       " [2, 2, 2, 4, 0, 2, 2, 4],\n",
       " [0, 0, 2, 2, 3, 3, 3, 4],\n",
       " [3, 3, 4, 0, 3, 3, 4, 4],\n",
       " [3, 4, 0, 2, 4, 4, 3, 3],\n",
       " [3, 4, 0, 2, 4, 3, 3, 4],\n",
       " [0, 4, 0, 3, 2, 3],\n",
       " [2, 2, 0, 4, 3, 4],\n",
       " [3, 0, 3, 3, 2, 3],\n",
       " [4, 2, 0, 4, 4, 2],\n",
       " [0, 4, 0, 3, 4, 3],\n",
       " [2, 2, 0, 4, 3, 4]]"
      ]
     },
     "execution_count": 102,
     "metadata": {},
     "output_type": "execute_result"
    }
   ],
   "source": [
    "map_0243={1:0,2:2,3:4,4:3}\n",
    "lyrics_0243_list = [[map_0243[char] for char in line] for line in lyrics_zone_list]\n",
    "lyrics_0243_list"
   ]
  },
  {
   "cell_type": "markdown",
   "metadata": {},
   "source": [
    "#### 处理成指定输入输出格式"
   ]
  },
  {
   "cell_type": "code",
   "execution_count": 11,
   "metadata": {},
   "outputs": [],
   "source": [
    "from data_utils import msk_pitch_str\n",
    "import random"
   ]
  },
  {
   "cell_type": "markdown",
   "metadata": {},
   "source": [
    "### 检测不和谐的位置，mask"
   ]
  },
  {
   "cell_type": "code",
   "execution_count": 86,
   "metadata": {},
   "outputs": [],
   "source": [
    "def detect_msk_pos(song_pitch_list,lyrics_zone_list):\n",
    "    #mask_index=[]\n",
    "    #计算原来歌曲的分区  需要填写的音区\n",
    "    zone_bound=div_zone(song_pitch_list)\n",
    "    song_ori_zones=[pitch2zone(p,zone_bound) for p in song_pitch_list]#旋律原本的音区\n",
    "\n",
    "    print(\"song_ori_zones\",[map_0243[i] for i in song_ori_zones])\n",
    "    print(\"lyrics_zone_list\",[map_0243[i] for i in lyrics_zone_list])\n",
    "    #print(\"song_ori_zones\",song_ori_zones)\n",
    "    #print(\"lyrics_zone_list\",lyrics_zone_list)\n",
    "    \n",
    "    mask_index = [i for i in range(min(len(song_ori_zones), len(lyrics_zone_list))) if song_ori_zones[i] != lyrics_zone_list[i]]\n",
    "\n",
    "    return mask_index\n"
   ]
  },
  {
   "cell_type": "code",
   "execution_count": 103,
   "metadata": {},
   "outputs": [
    {
     "name": "stdout",
     "output_type": "stream",
     "text": [
      "song_ori_zones [0, 0, 2, 2, 3, 3, 3, 2]\n",
      "lyrics_zone_list [0, 0, 2, 2, 2, 2, 4, 3]\n",
      "[4, 5, 6, 7]\n",
      "\n",
      "song_ori_zones [2, 3, 2, 4, 0, 2, 2, 0]\n",
      "lyrics_zone_list [2, 2, 2, 4, 0, 2, 2, 4]\n",
      "[1, 7]\n",
      "\n",
      "song_ori_zones [0, 0, 2, 2, 3, 3, 3, 2]\n",
      "lyrics_zone_list [0, 0, 2, 2, 3, 3, 3, 4]\n",
      "[7]\n",
      "\n",
      "song_ori_zones [3, 3, 4, 0, 3, 3, 4, 4]\n",
      "lyrics_zone_list [3, 3, 4, 0, 3, 3, 4, 4]\n",
      "[]\n",
      "\n",
      "song_ori_zones [3, 4, 0, 2, 4, 4, 3, 4]\n",
      "lyrics_zone_list [3, 4, 0, 2, 4, 4, 3, 3]\n",
      "[7]\n",
      "\n",
      "song_ori_zones [3, 4, 0, 2, 4, 3, 3, 4]\n",
      "lyrics_zone_list [3, 4, 0, 2, 4, 3, 3, 4]\n",
      "[]\n",
      "\n",
      "song_ori_zones [0, 4, 0, 3, 2, 3]\n",
      "lyrics_zone_list [0, 4, 0, 3, 2, 3]\n",
      "[]\n",
      "\n",
      "song_ori_zones [2, 2, 0, 3, 3, 4]\n",
      "lyrics_zone_list [2, 2, 0, 4, 3, 4]\n",
      "[3]\n",
      "\n",
      "song_ori_zones [3, 0, 3, 3, 0, 3]\n",
      "lyrics_zone_list [3, 0, 3, 3, 2, 3]\n",
      "[4]\n",
      "\n",
      "song_ori_zones [4, 2, 0, 3, 4, 3]\n",
      "lyrics_zone_list [4, 2, 0, 4, 4, 2]\n",
      "[3, 5]\n",
      "\n",
      "song_ori_zones [0, 4, 0, 3, 2, 3]\n",
      "lyrics_zone_list [0, 4, 0, 3, 4, 3]\n",
      "[4]\n",
      "\n",
      "song_ori_zones [2, 2, 0, 3, 3, 4]\n",
      "lyrics_zone_list [2, 2, 0, 4, 3, 4]\n",
      "[3]\n",
      "\n"
     ]
    }
   ],
   "source": [
    "for i,record in enumerate(song_pitch_list):\n",
    "    mask_line_idx=detect_msk_pos(record['pitch'],lyrics_zone_list[i])\n",
    "    print(mask_line_idx)\n",
    "    print()"
   ]
  },
  {
   "cell_type": "code",
   "execution_count": 59,
   "metadata": {},
   "outputs": [],
   "source": [
    "\n",
    "def generate_mask_msg(record,lyrics_line_zone):\n",
    "  \n",
    "    pitch = record[\"pitch\"]\n",
    "\n",
    "    pitch_length = len(pitch)\n",
    "    \n",
    "    mask_index=detect_msk_pos(pitch,lyrics_line_zone)\n",
    "\n",
    "    input_str=msk_pitch_str(pitch,mask_index)\n",
    "\n",
    "    # 定义指令和用户输入\n",
    "    msg_tpl = [\n",
    "        {\"role\": \"system\", \"content\": \"你是一个专业的作曲家\"},\n",
    "        {\"role\": \"instruction\",\n",
    "         \"content\": \"请你根据给定的旋律，填写旋律中[M]的内容使前后连贯，注意输出的output的长度要和[M]的个数严格匹配，下面有{}个[M]\".format(len(mask_index))}\n",
    "    ]\n",
    "\n",
    "    # 用户音高序列输入\n",
    "    user_input = input_str\n",
    "    msg = msg_tpl + [{\"role\": \"user\", \"content\": user_input}]\n",
    "\n",
    "    return msg,mask_index"
   ]
  },
  {
   "cell_type": "code",
   "execution_count": null,
   "metadata": {},
   "outputs": [],
   "source": [
    "def generate_mask_data(record,lyrics_line_zone):  \n",
    "    mask_record={}\n",
    "    msg,mask_index=generate_mask_msg(record,lyrics_line_zone)\n",
    "    mask_record['mask_idx']=mask_index\n",
    "\n",
    "    #计算音区的分区  需要填写的音区\n",
    "    zone_bound=div_zone(record['pitch'])\n",
    "    mask_true_ls=[record['pitch'][i] for i in mask_index]\n",
    "    ori_zones=[pitch2zone(p,zone_bound) for p in mask_true_ls]#旋律原本的音区\n",
    "    true_zones=[lyrics_line_zone[p] for p in mask_index]\n",
    "\n",
    "    mask_record['require_zones']=true_zones\n",
    "    mask_record['msg']=msg\n",
    "\n",
    "    return mask_record"
   ]
  },
  {
   "cell_type": "code",
   "execution_count": 104,
   "metadata": {},
   "outputs": [
    {
     "name": "stdout",
     "output_type": "stream",
     "text": [
      "song_ori_zones [0, 0, 2, 2, 3, 3, 3, 2]\n",
      "lyrics_zone_list [0, 0, 2, 2, 2, 2, 4, 3]\n",
      "song_ori_zones [2, 3, 2, 4, 0, 2, 2, 0]\n",
      "lyrics_zone_list [2, 2, 2, 4, 0, 2, 2, 4]\n",
      "song_ori_zones [0, 0, 2, 2, 3, 3, 3, 2]\n",
      "lyrics_zone_list [0, 0, 2, 2, 3, 3, 3, 4]\n",
      "song_ori_zones [3, 3, 4, 0, 3, 3, 4, 4]\n",
      "lyrics_zone_list [3, 3, 4, 0, 3, 3, 4, 4]\n",
      "song_ori_zones [3, 4, 0, 2, 4, 4, 3, 4]\n",
      "lyrics_zone_list [3, 4, 0, 2, 4, 4, 3, 3]\n",
      "song_ori_zones [3, 4, 0, 2, 4, 3, 3, 4]\n",
      "lyrics_zone_list [3, 4, 0, 2, 4, 3, 3, 4]\n",
      "song_ori_zones [0, 4, 0, 3, 2, 3]\n",
      "lyrics_zone_list [0, 4, 0, 3, 2, 3]\n",
      "song_ori_zones [2, 2, 0, 3, 3, 4]\n",
      "lyrics_zone_list [2, 2, 0, 4, 3, 4]\n",
      "song_ori_zones [3, 0, 3, 3, 0, 3]\n",
      "lyrics_zone_list [3, 0, 3, 3, 2, 3]\n",
      "song_ori_zones [4, 2, 0, 3, 4, 3]\n",
      "lyrics_zone_list [4, 2, 0, 4, 4, 2]\n",
      "song_ori_zones [0, 4, 0, 3, 2, 3]\n",
      "lyrics_zone_list [0, 4, 0, 3, 4, 3]\n",
      "song_ori_zones [2, 2, 0, 3, 3, 4]\n",
      "lyrics_zone_list [2, 2, 0, 4, 3, 4]\n"
     ]
    }
   ],
   "source": [
    "mask_data=[]\n",
    "\n",
    "for i,record in enumerate(song_pitch_list):\n",
    "    mask_record=generate_mask_data(record,lyrics_zone_list[i])\n",
    "    mask_data.append(mask_record)\n"
   ]
  },
  {
   "cell_type": "code",
   "execution_count": 105,
   "metadata": {},
   "outputs": [
    {
     "data": {
      "text/plain": [
       "[{'mask_idx': [4, 5, 6, 7],\n",
       "  'require_zones': [2, 2, 3, 4],\n",
       "  'msg': [{'role': 'system', 'content': '你是一个专业的作曲家'},\n",
       "   {'role': 'instruction',\n",
       "    'content': '请你根据给定的旋律，填写旋律中[M]的内容使前后连贯，注意输出的output的长度要和[M]的个数严格匹配，下面有4个[M]'},\n",
       "   {'role': 'user', 'content': ' <D4> <D4> <F#4> <A4> [M] [M] [M] [M]'}]},\n",
       " {'mask_idx': [1, 7],\n",
       "  'require_zones': [2, 3],\n",
       "  'msg': [{'role': 'system', 'content': '你是一个专业的作曲家'},\n",
       "   {'role': 'instruction',\n",
       "    'content': '请你根据给定的旋律，填写旋律中[M]的内容使前后连贯，注意输出的output的长度要和[M]的个数严格匹配，下面有2个[M]'},\n",
       "   {'role': 'user', 'content': ' <G4> [M] <F#4> <A4> <E4> <F#4> <G4> [M]'}]},\n",
       " {'mask_idx': [7],\n",
       "  'require_zones': [3],\n",
       "  'msg': [{'role': 'system', 'content': '你是一个专业的作曲家'},\n",
       "   {'role': 'instruction',\n",
       "    'content': '请你根据给定的旋律，填写旋律中[M]的内容使前后连贯，注意输出的output的长度要和[M]的个数严格匹配，下面有1个[M]'},\n",
       "   {'role': 'user', 'content': ' <D4> <D4> <F#4> <A4> <D5> <F5> <D5> [M]'}]},\n",
       " {'mask_idx': [],\n",
       "  'require_zones': [],\n",
       "  'msg': [{'role': 'system', 'content': '你是一个专业的作曲家'},\n",
       "   {'role': 'instruction',\n",
       "    'content': '请你根据给定的旋律，填写旋律中[M]的内容使前后连贯，注意输出的output的长度要和[M]的个数严格匹配，下面有0个[M]'},\n",
       "   {'role': 'user', 'content': ' <B4> <D5> <A4> <D4> <D5> <D5> <A4> <A4>'}]},\n",
       " {'mask_idx': [7],\n",
       "  'require_zones': [4],\n",
       "  'msg': [{'role': 'system', 'content': '你是一个专业的作曲家'},\n",
       "   {'role': 'instruction',\n",
       "    'content': '请你根据给定的旋律，填写旋律中[M]的内容使前后连贯，注意输出的output的长度要和[M]的个数严格匹配，下面有1个[M]'},\n",
       "   {'role': 'user', 'content': ' <A4> <F#4> <D4> <E4> <F#4> <G4> <A4> [M]'}]},\n",
       " {'mask_idx': [],\n",
       "  'require_zones': [],\n",
       "  'msg': [{'role': 'system', 'content': '你是一个专业的作曲家'},\n",
       "   {'role': 'instruction',\n",
       "    'content': '请你根据给定的旋律，填写旋律中[M]的内容使前后连贯，注意输出的output的长度要和[M]的个数严格匹配，下面有0个[M]'},\n",
       "   {'role': 'user', 'content': ' <G4> <E4> <C4> <D4> <E4> <F#4> <G4> <F4>'}]},\n",
       " {'mask_idx': [],\n",
       "  'require_zones': [],\n",
       "  'msg': [{'role': 'system', 'content': '你是一个专业的作曲家'},\n",
       "   {'role': 'instruction',\n",
       "    'content': '请你根据给定的旋律，填写旋律中[M]的内容使前后连贯，注意输出的output的长度要和[M]的个数严格匹配，下面有0个[M]'},\n",
       "   {'role': 'user', 'content': ' <F4> <G4> <F4> <A4> <F#4> <A4>'}]},\n",
       " {'mask_idx': [3],\n",
       "  'require_zones': [3],\n",
       "  'msg': [{'role': 'system', 'content': '你是一个专业的作曲家'},\n",
       "   {'role': 'instruction',\n",
       "    'content': '请你根据给定的旋律，填写旋律中[M]的内容使前后连贯，注意输出的output的长度要和[M]的个数严格匹配，下面有1个[M]'},\n",
       "   {'role': 'user', 'content': ' <F4> <E4> <C4> [M] <D5> <A4>'}]},\n",
       " {'mask_idx': [4],\n",
       "  'require_zones': [2],\n",
       "  'msg': [{'role': 'system', 'content': '你是一个专业的作曲家'},\n",
       "   {'role': 'instruction',\n",
       "    'content': '请你根据给定的旋律，填写旋律中[M]的内容使前后连贯，注意输出的output的长度要和[M]的个数严格匹配，下面有1个[M]'},\n",
       "   {'role': 'user', 'content': ' <A4> <F#4> <A4> <A4> [M] <A4>'}]},\n",
       " {'mask_idx': [3, 5],\n",
       "  'require_zones': [3, 2],\n",
       "  'msg': [{'role': 'system', 'content': '你是一个专业的作曲家'},\n",
       "   {'role': 'instruction',\n",
       "    'content': '请你根据给定的旋律，填写旋律中[M]的内容使前后连贯，注意输出的output的长度要和[M]的个数严格匹配，下面有2个[M]'},\n",
       "   {'role': 'user', 'content': ' <F4> <E4> <C4> [M] <F4> [M]'}]},\n",
       " {'mask_idx': [4],\n",
       "  'require_zones': [3],\n",
       "  'msg': [{'role': 'system', 'content': '你是一个专业的作曲家'},\n",
       "   {'role': 'instruction',\n",
       "    'content': '请你根据给定的旋律，填写旋律中[M]的内容使前后连贯，注意输出的output的长度要和[M]的个数严格匹配，下面有1个[M]'},\n",
       "   {'role': 'user', 'content': ' <F4> <G4> <F4> <A4> [M] <A4>'}]},\n",
       " {'mask_idx': [3],\n",
       "  'require_zones': [3],\n",
       "  'msg': [{'role': 'system', 'content': '你是一个专业的作曲家'},\n",
       "   {'role': 'instruction',\n",
       "    'content': '请你根据给定的旋律，填写旋律中[M]的内容使前后连贯，注意输出的output的长度要和[M]的个数严格匹配，下面有1个[M]'},\n",
       "   {'role': 'user', 'content': ' <F4> <E4> <C4> [M] <D5> <A4>'}]}]"
      ]
     },
     "execution_count": 105,
     "metadata": {},
     "output_type": "execute_result"
    }
   ],
   "source": [
    "mask_data"
   ]
  },
  {
   "cell_type": "markdown",
   "metadata": {},
   "source": [
    "#### 模型推理"
   ]
  },
  {
   "cell_type": "code",
   "execution_count": null,
   "metadata": {},
   "outputs": [
    {
     "name": "stdout",
     "output_type": "stream",
     "text": [
      "第0个polish\n",
      "第1个polish\n",
      "mask位置 [1, 7]\n",
      "原pitch序列 [67, 71, 66, 69, 64, 66, 67, 65]\n",
      "现pitch序列 [[67, 69, 66, 69, 64, 66, 67, 66]]\n",
      "原错的音区序列 [3, 0]\n",
      "要求的音区序列 [2, 4]\n",
      "修改后的音区序列 [4, 2]\n",
      "\n",
      "第2个polish\n",
      "mask位置 [7]\n",
      "原pitch序列 [62, 62, 66, 69, 74, 77, 74, 69]\n",
      "现pitch序列 [[62, 62, 66, 69, 74, 77, 74, 73]]\n",
      "原错的音区序列 [2]\n",
      "要求的音区序列 [4]\n",
      "修改后的音区序列 [4]\n",
      "\n",
      "第4个polish\n",
      "mask位置 [7]\n",
      "原pitch序列 [69, 66, 62, 64, 66, 67, 69, 66]\n",
      "现pitch序列 [[69, 66, 62, 64, 66, 67, 69, 65]]\n",
      "原错的音区序列 [4]\n",
      "要求的音区序列 [3]\n",
      "修改后的音区序列 [2]\n",
      "\n",
      "第7个polish\n",
      "第8个polish\n",
      "mask位置 [4]\n",
      "原pitch序列 [69, 66, 69, 69, 66, 69]\n",
      "现pitch序列 [[69, 66, 69, 69, 67, 69]]\n",
      "原错的音区序列 [0]\n",
      "要求的音区序列 [2]\n",
      "修改后的音区序列 [2]\n",
      "\n",
      "第9个polish\n",
      "第10个polish\n",
      "mask位置 [4]\n",
      "原pitch序列 [65, 67, 65, 69, 66, 69]\n",
      "现pitch序列 [[65, 67, 65, 69, 67, 69]]\n",
      "原错的音区序列 [2]\n",
      "要求的音区序列 [4]\n",
      "修改后的音区序列 [4]\n",
      "\n",
      "第11个polish\n",
      "mask位置 [3]\n",
      "原pitch序列 [65, 64, 60, 74, 74, 69]\n",
      "现pitch序列 [[65, 64, 60, 72, 74, 69]]\n",
      "原错的音区序列 [3]\n",
      "要求的音区序列 [4]\n",
      "修改后的音区序列 [3]\n",
      "\n"
     ]
    }
   ],
   "source": [
    "import random\n",
    "import re\n",
    "#阈值\n",
    "max_md=1\n",
    "max_lmt=2\n",
    "start_lmt=0\n",
    "max_cnt=5\n",
    "\n",
    "\n",
    "new_data=[]\n",
    "\n",
    "for num,record in enumerate(song_pitch_list):\n",
    "    new_record=dict()\n",
    "    cnt=0 #记录生成了多少次\n",
    "    #msg,mask_index=generate_mask_msg(record)\n",
    "    msg=mask_data[num]['msg']\n",
    "    mask_index=mask_data[num]['mask_idx']\n",
    "\n",
    "    new_record['pitch']=record['pitch']\n",
    "    new_record['mask_idx']=mask_index\n",
    "\n",
    "    # 不用polish的句子跳过\n",
    "    if len(mask_index)==0:\n",
    "        continue\n",
    "\n",
    "    print(\"第{}个polish\".format(num))\n",
    "\n",
    "    lmt=start_lmt\n",
    "    #计算音区的分区  需要填写的音区\n",
    "    zone_bound=div_zone(record['pitch'])\n",
    "    mask_true_ls=[record['pitch'][i] for i in mask_index]\n",
    "    ori_zones=[pitch2zone(p,zone_bound) for p in mask_true_ls]#旋律原本的音区\n",
    "    true_zones=mask_data[num]['require_zones']\n",
    "\n",
    "    #开始多次生成，直到满足条件或到达次数\n",
    "    while 1:\n",
    "        if cnt>=max_cnt: \n",
    "            break\n",
    "        cnt+=1\n",
    "        new_record[cnt]=dict()\n",
    "\n",
    "        output=inference(msg,true_zones,zone_bound,lmt)\n",
    "        output=re.search(r'(?<=assistant)(.*)', output, re.DOTALL).group(1).strip()\n",
    "        mask_ls=convert_pitches_to_numbers(output)\n",
    "\n",
    "        new_record[cnt]['output']=mask_ls\n",
    "        \n",
    "\n",
    "        #填充mask构造回原来的序列\n",
    "        ori_ls=[record['pitch']]\n",
    "        polish_ls=[[i for i in record['pitch']]]\n",
    "\n",
    "        index_error=0\n",
    "        for i,idx in enumerate(mask_index):\n",
    "            try: \n",
    "                polish_ls[0][idx]=mask_ls[i]\n",
    "            except IndexError:\n",
    "                print(\"IndexError，ignore this data\")\n",
    "                index_error=1\n",
    "                break\n",
    "        if index_error==1:\n",
    "            continue #跳过继续\n",
    "            \n",
    "        new_record[cnt]['polish']=polish_ls[0]\n",
    "\n",
    "        md=cal_md(polish_ls,ori_ls)\n",
    "        new_record[cnt]['md']=md\n",
    "\n",
    "        \n",
    "        polish_zones=[pitch2zone(p,zone_bound) for p in mask_ls]\n",
    "        \n",
    "\n",
    "        if md<max_md:\n",
    "            new_record['accept']=True\n",
    "            print(\"mask位置\",mask_index)\n",
    "            print(\"原pitch序列\",record['pitch'])\n",
    "            print(\"现pitch序列\",polish_ls)\n",
    "            print(\"原错的音区序列\",[map_0243[i] for i in ori_zones])\n",
    "            print(\"要求的音区序列\",[map_0243[i] for i in true_zones])\n",
    "            print(\"修改后的音区序列\",[map_0243[i] for i in polish_zones])\n",
    "            print()\n",
    "            break\n",
    "\n",
    "        #放宽lmt\n",
    "        if cnt%2==0: #2轮加一次，每次加2\n",
    "            if lmt+(cnt)/2*2<=max_lmt:\n",
    "                lmt=lmt+(cnt)/2*2\n",
    "\n",
    "\n",
    "    if cnt==max_cnt:\n",
    "        new_record['accept']=False\n",
    "\n",
    "    new_data.append(new_record)\n",
    "    #print(\"第{}个完成\".format(num))\n",
    "\n"
   ]
  }
 ],
 "metadata": {
  "kernelspec": {
   "display_name": "Python 3 (ipykernel)",
   "language": "python",
   "name": "python3"
  },
  "language_info": {
   "codemirror_mode": {
    "name": "ipython",
    "version": 3
   },
   "file_extension": ".py",
   "mimetype": "text/x-python",
   "name": "python",
   "nbconvert_exporter": "python",
   "pygments_lexer": "ipython3",
   "version": "3.10.8"
  }
 },
 "nbformat": 4,
 "nbformat_minor": 4
}
